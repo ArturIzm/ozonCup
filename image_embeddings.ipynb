{
 "cells": [
  {
   "cell_type": "markdown",
   "metadata": {},
   "source": [
    "<b>Данный блокнот производит обработку изображений. Мы хотим получить эмбеддинги изображений с помощью трансформера 'facebook/dinov2-base'"
   ]
  },
  {
   "cell_type": "code",
   "execution_count": 70,
   "metadata": {
    "id": "szv3T_rJzLKQ"
   },
   "outputs": [],
   "source": [
    "from transformers import AutoImageProcessor, AutoModel\n",
    "import numpy as np\n",
    "from PIL import Image\n",
    "import requests\n",
    "import torch\n",
    "from tqdm import tqdm\n",
    "import os\n",
    "import csv"
   ]
  },
  {
   "cell_type": "code",
   "execution_count": null,
   "metadata": {
    "id": "QdV-YWWYzQAW"
   },
   "outputs": [],
   "source": [
    "processor = AutoImageProcessor.from_pretrained('facebook/dinov2-base')\n",
    "model = AutoModel.from_pretrained('facebook/dinov2-base')\n",
    "input_path = 'Ozon/' # Путь до картинок относительно блокнота\n",
    "output_path = 'test_image_embeddings.csv' # Путь до выходного csv-шника"
   ]
  },
  {
   "cell_type": "code",
   "execution_count": 72,
   "metadata": {
    "id": "S1CiObrkzTmw"
   },
   "outputs": [],
   "source": [
    "from logging import exception\n",
    "def get_dinov2_embeddings(image):\n",
    "  try:\n",
    "    # Автоматическая предобработка до 224x224\n",
    "    inputs = processor(images=image, return_tensors=\"pt\")\n",
    "\n",
    "    with torch.no_grad():\n",
    "        outputs = model(**inputs)\n",
    "\n",
    "    # Берем [CLS] token как embedding всего изображения\n",
    "    embeddings = outputs.last_hidden_state[:, 0]  # [1, 768]\n",
    "    return embeddings.numpy(), True\n",
    "\n",
    "  except Exception as e:\n",
    "    print(f\"Ошибка обработки {image_path}: {e}\")\n",
    "    return None, False"
   ]
  },
  {
   "cell_type": "code",
   "execution_count": null,
   "metadata": {
    "id": "eOv82fDHgma-"
   },
   "outputs": [],
   "source": [
    "def process_folder(folder_path, output_csv):\n",
    "    # Поиск всех изображений\n",
    "    image_extensions = {'.jpg', '.jpeg', '.png', '.bmp', '.tiff', '.webp'}\n",
    "    image_paths = []\n",
    "    for file in os.listdir(folder_path):\n",
    "        file_ext = os.path.splitext(file.lower())[1]\n",
    "        if file_ext in image_extensions:\n",
    "            full_path = os.path.join(folder_path, file)\n",
    "            image_paths.append(full_path)\n",
    "\n",
    "    print(f\"Найдено {len(image_paths)} изображений для обработки\")\n",
    "\n",
    "    if not image_paths:\n",
    "        print(\"Не найдено изображений для обработки!\")\n",
    "        return\n",
    "\n",
    "    # Собираем данные в список для создания DataFrame\n",
    "    data_rows = []\n",
    "    successful = 0\n",
    "    \n",
    "    for image_path in tqdm(image_paths, desc=\"Обработка изображений\"):\n",
    "        embedding, success = get_dinov2_embeddings(Image.open(image_path).convert('RGB'))\n",
    "        if success:\n",
    "            filename = os.path.basename(image_path)\n",
    "            row = {\n",
    "                'id': filename.split('.')[0],\n",
    "                'filepath': image_path\n",
    "            }\n",
    "            # Добавляем каждый элемент эмбеддинга как отдельную колонку\n",
    "            for i, emb_val in enumerate(embedding):\n",
    "                row[f'emb_{i}'] = emb_val\n",
    "            \n",
    "            data_rows.append(row)\n",
    "            successful += 1\n",
    "\n",
    "    # Создаем DataFrame и сохраняем в CSV\n",
    "    df = pd.DataFrame(data_rows)\n",
    "    df.to_csv(output_csv, index=False, encoding='utf-8')\n",
    "    \n",
    "    print(f\"Успешно обработано: {successful}/{len(image_paths)} изображений\")\n",
    "    print(f\"Результаты сохранены в: {output_csv}\")\n",
    "    print(f\"DataFrame создан с формой: {df.shape}\")\n",
    "    \n",
    "    return df"
   ]
  },
  {
   "cell_type": "code",
   "execution_count": 80,
   "metadata": {
    "colab": {
     "base_uri": "https://localhost:8080/"
    },
    "id": "OCvX50aP51IL",
    "outputId": "ba7e1b94-75ab-42b0-f06e-49db8dfd68fd"
   },
   "outputs": [
    {
     "name": "stdout",
     "output_type": "stream",
     "text": [
      "Найдено 5 изображений для обработки\n"
     ]
    },
    {
     "name": "stderr",
     "output_type": "stream",
     "text": [
      "Обработка изображений: 100%|██████████| 5/5 [00:04<00:00,  1.04it/s]"
     ]
    },
    {
     "name": "stdout",
     "output_type": "stream",
     "text": [
      "Успешно обработано: 5/5 изображений\n",
      "Результаты сохранены в: output.csv\n"
     ]
    },
    {
     "name": "stderr",
     "output_type": "stream",
     "text": [
      "\n"
     ]
    }
   ],
   "source": [
    "process_folder(input_path, output_path)"
   ]
  },
  {
   "cell_type": "code",
   "execution_count": null,
   "metadata": {
    "id": "0wjx2JPN61EW"
   },
   "outputs": [],
   "source": []
  }
 ],
 "metadata": {
  "colab": {
   "provenance": []
  },
  "kernelspec": {
   "display_name": "Python 3 (ipykernel)",
   "language": "python",
   "name": "python3"
  },
  "language_info": {
   "codemirror_mode": {
    "name": "ipython",
    "version": 3
   },
   "file_extension": ".py",
   "mimetype": "text/x-python",
   "name": "python",
   "nbconvert_exporter": "python",
   "pygments_lexer": "ipython3",
   "version": "3.12.3"
  }
 },
 "nbformat": 4,
 "nbformat_minor": 4
}
